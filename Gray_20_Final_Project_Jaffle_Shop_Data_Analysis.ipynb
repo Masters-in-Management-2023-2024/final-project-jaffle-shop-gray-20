{
  "cells": [
    {
      "cell_type": "markdown",
      "metadata": {
        "id": "l3QD2fmP9lCu"
      },
      "source": [
        "# Jaffle Shop Data Analysis - Final Project\n",
        "\n",
        "## Instructions\n",
        "You have been hired as a data analyst for Jaffle Shop, a growing chain of gourmet toasted sandwich restaurants. The executive team needs insights to make strategic business decisions.\n",
        "\n",
        "Using the provided datasets and Python Polars, analyze the business performance and provide data-driven recommendations. You must use Polars for all data manipulation and analysis.\n",
        "\n",
        "## Available Data\n",
        "- `Customers.csv`: Customer information\n",
        "- `Orders.csv`: Order transactions with totals and timestamps\n",
        "- `Items.csv`: Individual items within each order\n",
        "- `Products.csv`: Product catalog with prices and descriptions\n",
        "- `Stores.csv`: Store locations and opening dates\n",
        "- `Supplies.csv`: Supply costs for each product\n",
        "\n",
        "**Time Limit: 90 minutes**"
      ]
    },
    {
      "cell_type": "markdown",
      "metadata": {
        "id": "eRFBQhjx9lCv"
      },
      "source": [
        "## Setup and Data Loading"
      ]
    },
    {
      "cell_type": "code",
      "execution_count": 24,
      "metadata": {
        "id": "Mfg-9dde9lCv"
      },
      "outputs": [],
      "source": [
        "# Import necessary libraries\n",
        "import polars as pl\n",
        "from datetime import datetime, timedelta\n",
        "import matplotlib.pyplot as plt\n",
        "\n",
        "# Set up plotting style\n",
        "plt.style.use('seaborn-v0_8-darkgrid')"
      ]
    },
    {
      "cell_type": "code",
      "execution_count": 25,
      "metadata": {
        "id": "pJXoy2bo9lCw",
        "outputId": "39fb85d1-d653-4481-dfeb-092720900fb3",
        "colab": {
          "base_uri": "https://localhost:8080/"
        }
      },
      "outputs": [
        {
          "output_type": "stream",
          "name": "stdout",
          "text": [
            "Dataset shapes:\n",
            "Customers: (932, 2)\n",
            "Orders: (63148, 7)\n",
            "Items: (90184, 3)\n",
            "Products: (10, 5)\n",
            "Stores: (6, 4)\n",
            "Supplies: (65, 5)\n",
            "shape: (932, 2)\n",
            "┌─────────────────────────────────┬─────────────────┐\n",
            "│ id                              ┆ name            │\n",
            "│ ---                             ┆ ---             │\n",
            "│ str                             ┆ str             │\n",
            "╞═════════════════════════════════╪═════════════════╡\n",
            "│ ae3a050d-287f-4257-a778-cdb420… ┆ Anthony Wells   │\n",
            "│ 33a51363-1989-4967-93a1-b8e225… ┆ Scott Thompson  │\n",
            "│ 2f8f7de0-4c62-4b87-8494-6a50d6… ┆ Michael Walker  │\n",
            "│ 46f7be1b-f2bc-4a91-a7c3-88c141… ┆ Alicia Clark    │\n",
            "│ c616a2a2-5efc-4e22-9db1-50dfa4… ┆ Dawn Williams   │\n",
            "│ …                               ┆ …               │\n",
            "│ dac6a745-7f69-4989-b73f-ec51b4… ┆ Tony Mendoza    │\n",
            "│ fe5dfa9b-16ec-4bf5-b910-b7eff0… ┆ Traci Patel     │\n",
            "│ cf9e333f-e1c0-4abb-b5f6-b4c9ea… ┆ Ryan Nash       │\n",
            "│ bf467f40-51cd-4773-b463-cce499… ┆ Tyler Henderson │\n",
            "│ 864b3c0c-41ce-4ff3-9ad4-1d4eea… ┆ Tiffany Bass    │\n",
            "└─────────────────────────────────┴─────────────────┘\n",
            "shape: (63_148, 7)\n",
            "┌───────────────┬───────────────┬───────────────┬──────────────┬──────────┬──────────┬─────────────┐\n",
            "│ id            ┆ customer      ┆ ordered_at    ┆ store_id     ┆ subtotal ┆ tax_paid ┆ order_total │\n",
            "│ ---           ┆ ---           ┆ ---           ┆ ---          ┆ ---      ┆ ---      ┆ ---         │\n",
            "│ str           ┆ str           ┆ str           ┆ str          ┆ i64      ┆ i64      ┆ i64         │\n",
            "╞═══════════════╪═══════════════╪═══════════════╪══════════════╪══════════╪══════════╪═════════════╡\n",
            "│ 363ab5f2-78b4 ┆ ae3a050d-287f ┆ 2016-09-01T14 ┆ a9128331-08d ┆ 1700     ┆ 102      ┆ 1802        │\n",
            "│ -4227-9333-97 ┆ -4257-a778-cd ┆ :49:00        ┆ 7-41a2-b615- ┆          ┆          ┆             │\n",
            "│ 01ef…         ┆ b420…         ┆               ┆ 21283e…      ┆          ┆          ┆             │\n",
            "│ d6cdb882-aa8c ┆ 33a51363-1989 ┆ 2016-09-01T08 ┆ a9128331-08d ┆ 600      ┆ 36       ┆ 636         │\n",
            "│ -4b5a-a478-43 ┆ -4967-93a1-b8 ┆ :21:00        ┆ 7-41a2-b615- ┆          ┆          ┆             │\n",
            "│ 21ef…         ┆ e225…         ┆               ┆ 21283e…      ┆          ┆          ┆             │\n",
            "│ ca934a93-aca1 ┆ 2f8f7de0-4c62 ┆ 2016-09-01T08 ┆ a9128331-08d ┆ 700      ┆ 42       ┆ 742         │\n",
            "│ -4aeb-9786-ef ┆ -4b87-8494-6a ┆ :59:00        ┆ 7-41a2-b615- ┆          ┆          ┆             │\n",
            "│ b0da…         ┆ 50d6…         ┆               ┆ 21283e…      ┆          ┆          ┆             │\n",
            "│ ecd64383-c4df ┆ 46f7be1b-f2bc ┆ 2016-09-01T16 ┆ a9128331-08d ┆ 500      ┆ 30       ┆ 530         │\n",
            "│ -41aa-b270-f3 ┆ -4a91-a7c3-88 ┆ :42:00        ┆ 7-41a2-b615- ┆          ┆          ┆             │\n",
            "│ b110…         ┆ c141…         ┆               ┆ 21283e…      ┆          ┆          ┆             │\n",
            "│ adae1fcd-20b7 ┆ c616a2a2-5efc ┆ 2016-09-01T09 ┆ a9128331-08d ┆ 600      ┆ 36       ┆ 636         │\n",
            "│ -4f40-af1c-dc ┆ -4e22-9db1-50 ┆ :07:00        ┆ 7-41a2-b615- ┆          ┆          ┆             │\n",
            "│ 121d…         ┆ dfa4…         ┆               ┆ 21283e…      ┆          ┆          ┆             │\n",
            "│ …             ┆ …             ┆ …             ┆ …            ┆ …        ┆ …        ┆ …           │\n",
            "│ a47a98c0-082f ┆ 987c9aad-8623 ┆ 2017-08-31T15 ┆ a2a24e87-dec ┆ 400      ┆ 16       ┆ 416         │\n",
            "│ -4664-a4d6-99 ┆ -437b-a09d-ca ┆ :06:00        ┆ 8-4f5d-9c9e- ┆          ┆          ┆             │\n",
            "│ 714d…         ┆ 8a48…         ┆               ┆ 0e9849…      ┆          ┆          ┆             │\n",
            "│ aa5802f7-4a11 ┆ 8db2a61b-9e1b ┆ 2017-08-31T08 ┆ a2a24e87-dec ┆ 700      ┆ 28       ┆ 728         │\n",
            "│ -46ed-a9fc-b4 ┆ -4227-b960-66 ┆ :01:00        ┆ 8-4f5d-9c9e- ┆          ┆          ┆             │\n",
            "│ 9492…         ┆ 133a…         ┆               ┆ 0e9849…      ┆          ┆          ┆             │\n",
            "│ 861d9840-00fd ┆ 4d7527a9-6dc6 ┆ 2017-08-31T11 ┆ a2a24e87-dec ┆ 1300     ┆ 52       ┆ 1352        │\n",
            "│ -4920-969d-9f ┆ -4b8e-a50c-b9 ┆ :27:00        ┆ 8-4f5d-9c9e- ┆          ┆          ┆             │\n",
            "│ 9f28…         ┆ 0046…         ┆               ┆ 0e9849…      ┆          ┆          ┆             │\n",
            "│ a780d75c-b6b6 ┆ fe5dfa9b-16ec ┆ 2017-08-31T10 ┆ a2a24e87-dec ┆ 700      ┆ 28       ┆ 728         │\n",
            "│ -46cf-a68d-96 ┆ -4bf5-b910-b7 ┆ :23:00        ┆ 8-4f5d-9c9e- ┆          ┆          ┆             │\n",
            "│ 63f8…         ┆ eff0…         ┆               ┆ 0e9849…      ┆          ┆          ┆             │\n",
            "│ e99ea031-ae86 ┆ 864b3c0c-41ce ┆ 2017-08-31T16 ┆ a2a24e87-dec ┆ 400      ┆ 16       ┆ 416         │\n",
            "│ -47cc-9a5e-a9 ┆ -4ff3-9ad4-1d ┆ :44:00        ┆ 8-4f5d-9c9e- ┆          ┆          ┆             │\n",
            "│ 2c1d…         ┆ 4eea…         ┆               ┆ 0e9849…      ┆          ┆          ┆             │\n",
            "└───────────────┴───────────────┴───────────────┴──────────────┴──────────┴──────────┴─────────────┘\n",
            "shape: (90_184, 3)\n",
            "┌─────────────────────────────────┬─────────────────────────────────┬─────────┐\n",
            "│ id                              ┆ order_id                        ┆ sku     │\n",
            "│ ---                             ┆ ---                             ┆ ---     │\n",
            "│ str                             ┆ str                             ┆ str     │\n",
            "╞═════════════════════════════════╪═════════════════════════════════╪═════════╡\n",
            "│ 6136835c-cfa4-4308-bd65-440f7b… ┆ 363ab5f2-78b4-4227-9333-9701ef… ┆ BEV-001 │\n",
            "│ 6136835c-cfa4-4308-bd65-440f7b… ┆ 363ab5f2-78b4-4227-9333-9701ef… ┆ BEV-001 │\n",
            "│ 1a5fc7f0-1573-454a-ae79-576673… ┆ 363ab5f2-78b4-4227-9333-9701ef… ┆ JAF-002 │\n",
            "│ d32d93ca-250b-47b2-b640-cb482e… ┆ d6cdb882-aa8c-4b5a-a478-4321ef… ┆ BEV-001 │\n",
            "│ 8dabb27c-fcc2-4513-8adf-886cdc… ┆ ca934a93-aca1-4aeb-9786-efb0da… ┆ BEV-004 │\n",
            "│ …                               ┆ …                               ┆ …       │\n",
            "│ 35131799-803e-439e-88a8-26241c… ┆ aa5802f7-4a11-46ed-a9fc-b49492… ┆ BEV-004 │\n",
            "│ b5f1e5d9-5c41-45e9-a5bd-5196df… ┆ 861d9840-00fd-4920-969d-9f9f28… ┆ BEV-003 │\n",
            "│ 50dc3e21-5057-4fb7-b44a-3975b1… ┆ 861d9840-00fd-4920-969d-9f9f28… ┆ BEV-004 │\n",
            "│ d3380d76-0c19-43f7-bdc3-e34cb5… ┆ a780d75c-b6b6-46cf-a68d-9663f8… ┆ BEV-004 │\n",
            "│ 1e5aabdd-3217-4209-8cb4-f79f29… ┆ e99ea031-ae86-47cc-9a5e-a92c1d… ┆ BEV-005 │\n",
            "└─────────────────────────────────┴─────────────────────────────────┴─────────┘\n",
            "shape: (10, 5)\n",
            "┌─────────┬─────────────────────────┬──────────┬───────┬─────────────────────────────────┐\n",
            "│ sku     ┆ name                    ┆ type     ┆ price ┆ description                     │\n",
            "│ ---     ┆ ---                     ┆ ---      ┆ ---   ┆ ---                             │\n",
            "│ str     ┆ str                     ┆ str      ┆ i64   ┆ str                             │\n",
            "╞═════════╪═════════════════════════╪══════════╪═══════╪═════════════════════════════════╡\n",
            "│ JAF-001 ┆ nutellaphone who dis?   ┆ jaffle   ┆ 1100  ┆ nutella and banana jaffle       │\n",
            "│ JAF-002 ┆ doctor stew             ┆ jaffle   ┆ 1100  ┆ house-made beef stew jaffle     │\n",
            "│ JAF-003 ┆ the krautback           ┆ jaffle   ┆ 1200  ┆ lamb and pork bratwurst with h… │\n",
            "│ JAF-004 ┆ flame impala            ┆ jaffle   ┆ 1400  ┆ pulled pork and pineapple al p… │\n",
            "│ JAF-005 ┆ mel-bun                 ┆ jaffle   ┆ 1200  ┆ melon and minced beef bao, in … │\n",
            "│ BEV-001 ┆ tangaroo                ┆ beverage ┆ 600   ┆ mango and tangerine smoothie    │\n",
            "│ BEV-002 ┆ chai and mighty         ┆ beverage ┆ 500   ┆ oatmilk chai latte with protei… │\n",
            "│ BEV-003 ┆ vanilla ice             ┆ beverage ┆ 600   ┆ iced coffee with house-made fr… │\n",
            "│ BEV-004 ┆ for richer or pourover  ┆ beverage ┆ 700   ┆ daily selection of single esta… │\n",
            "│ BEV-005 ┆ adele-ade               ┆ beverage ┆ 400   ┆ a kiwi and lime agua fresca, h… │\n",
            "└─────────┴─────────────────────────┴──────────┴───────┴─────────────────────────────────┘\n",
            "shape: (6, 4)\n",
            "┌─────────────────────────────────┬───────────────┬─────────────────────┬──────────┐\n",
            "│ id                              ┆ name          ┆ opened_at           ┆ tax_rate │\n",
            "│ ---                             ┆ ---           ┆ ---                 ┆ ---      │\n",
            "│ str                             ┆ str           ┆ str                 ┆ f64      │\n",
            "╞═════════════════════════════════╪═══════════════╪═════════════════════╪══════════╡\n",
            "│ a9128331-08d7-41a2-b615-21283e… ┆ Philadelphia  ┆ 2016-09-01T00:00:00 ┆ 0.06     │\n",
            "│ a2a24e87-dec8-4f5d-9c9e-0e9849… ┆ Brooklyn      ┆ 2017-03-12T00:00:00 ┆ 0.04     │\n",
            "│ e1a600e7-e70a-43a8-96fd-a6dd26… ┆ Chicago       ┆ 2018-04-29T00:00:00 ┆ 0.0625   │\n",
            "│ 0d16236e-9a7f-4cd6-a9ec-24b16f… ┆ San Francisco ┆ 2018-05-09T00:00:00 ┆ 0.075    │\n",
            "│ ca0b89cc-6d98-4b87-88e3-5a0d95… ┆ New Orleans   ┆ 2019-03-10T00:00:00 ┆ 0.04     │\n",
            "│ 1abebe31-a2a6-4554-a235-03d342… ┆ Los Angeles   ┆ 2019-09-13T00:00:00 ┆ 0.08     │\n",
            "└─────────────────────────────────┴───────────────┴─────────────────────┴──────────┘\n",
            "shape: (65, 5)\n",
            "┌─────────┬─────────────────────────────┬──────┬────────────┬─────────┐\n",
            "│ id      ┆ name                        ┆ cost ┆ perishable ┆ sku     │\n",
            "│ ---     ┆ ---                         ┆ ---  ┆ ---        ┆ ---     │\n",
            "│ str     ┆ str                         ┆ i64  ┆ bool       ┆ str     │\n",
            "╞═════════╪═════════════════════════════╪══════╪════════════╪═════════╡\n",
            "│ SUP-001 ┆ compostable cutlery - knife ┆ 7    ┆ false      ┆ JAF-001 │\n",
            "│ SUP-002 ┆ cutlery - fork              ┆ 7    ┆ false      ┆ JAF-001 │\n",
            "│ SUP-003 ┆ serving boat                ┆ 11   ┆ false      ┆ JAF-001 │\n",
            "│ SUP-004 ┆ napkin                      ┆ 4    ┆ false      ┆ JAF-001 │\n",
            "│ SUP-009 ┆ bread                       ┆ 33   ┆ true       ┆ JAF-001 │\n",
            "│ …       ┆ …                           ┆ …    ┆ …          ┆ …       │\n",
            "│ SUP-005 ┆ 16oz compostable clear cup  ┆ 13   ┆ false      ┆ BEV-005 │\n",
            "│ SUP-006 ┆ 16oz compostable clear lid  ┆ 4    ┆ false      ┆ BEV-005 │\n",
            "│ SUP-007 ┆ biodegradable straw         ┆ 13   ┆ false      ┆ BEV-005 │\n",
            "│ SUP-028 ┆ kiwi                        ┆ 20   ┆ true       ┆ BEV-005 │\n",
            "│ SUP-029 ┆ lime                        ┆ 13   ┆ true       ┆ BEV-005 │\n",
            "└─────────┴─────────────────────────────┴──────┴────────────┴─────────┘\n"
          ]
        }
      ],
      "source": [
        "# Load all datasets\n",
        "customers = pl.read_csv('https://raw.githubusercontent.com/philhetzel/opan5510-finalproject/refs/heads/main/data/Customers.csv')\n",
        "orders = pl.read_csv('https://raw.githubusercontent.com/philhetzel/opan5510-finalproject/refs/heads/main/data/Orders.csv')\n",
        "items = pl.read_csv('https://raw.githubusercontent.com/philhetzel/opan5510-finalproject/refs/heads/main/data/Items.csv')\n",
        "products = pl.read_csv('https://raw.githubusercontent.com/philhetzel/opan5510-finalproject/refs/heads/main/data/Products.csv')\n",
        "stores = pl.read_csv('https://raw.githubusercontent.com/philhetzel/opan5510-finalproject/refs/heads/main/data/Stores.csv')\n",
        "supplies = pl.read_csv('https://raw.githubusercontent.com/philhetzel/opan5510-finalproject/refs/heads/main/data/Supplies.csv')\n",
        "\n",
        "# Display basic information about each dataset\n",
        "print(\"Dataset shapes:\")\n",
        "print(f\"Customers: {customers.shape}\")\n",
        "print(f\"Orders: {orders.shape}\")\n",
        "print(f\"Items: {items.shape}\")\n",
        "print(f\"Products: {products.shape}\")\n",
        "print(f\"Stores: {stores.shape}\")\n",
        "print(f\"Supplies: {supplies.shape}\")\n",
        "\n",
        "print(customers)\n",
        "print(orders)\n",
        "print(items)\n",
        "print(products)\n",
        "print(stores)\n",
        "print(supplies)"
      ]
    },
    {
      "cell_type": "markdown",
      "metadata": {
        "id": "-5_FUP6K9lCw"
      },
      "source": [
        "## Question 1: Revenue Performance Analysis\n",
        "\n",
        "The CFO wants to understand the company's financial performance across different dimensions. Analyze:\n",
        "- What is the total revenue generated by Jaffle Shop? (Store result in variable: `total_revenue`)\n",
        "- How does revenue vary by store location? (Store result in variable: `revenue_by_store`)\n",
        "- What are the monthly revenue trends? (Store result in variable: `monthly_revenue_trends`)\n",
        "- Which day of the week generates the most revenue? (Store result in variable: `revenue_by_day_of_week`)\n",
        "- Include at least one chart for one of these questions"
      ]
    },
    {
      "cell_type": "code",
      "execution_count": 26,
      "metadata": {
        "id": "oH--Hmx-9lCw",
        "colab": {
          "base_uri": "https://localhost:8080/"
        },
        "outputId": "b1ad29eb-6690-41bf-b740-16254725cd56"
      },
      "outputs": [
        {
          "output_type": "stream",
          "name": "stdout",
          "text": [
            "Total Revenue: $66,038,193.00\n"
          ]
        }
      ],
      "source": [
        "# Q1.1: Calculate total revenue\n",
        "# Your code here\n",
        "\n",
        "total_revenue = orders.select(pl.col('order_total')).sum().item()\n",
        "print(f\"Total Revenue: ${total_revenue:,.2f}\")"
      ]
    },
    {
      "cell_type": "code",
      "execution_count": 27,
      "metadata": {
        "id": "WaaDyFz_9lCw",
        "colab": {
          "base_uri": "https://localhost:8080/"
        },
        "outputId": "d4cdac5e-1dcb-49bd-8bbf-4455bfc593bb"
      },
      "outputs": [
        {
          "output_type": "stream",
          "name": "stdout",
          "text": [
            "shape: (2, 2)\n",
            "┌──────────────┬────────────────────────┐\n",
            "│ name         ┆ total_revenue_by_store │\n",
            "│ ---          ┆ ---                    │\n",
            "│ str          ┆ i64                    │\n",
            "╞══════════════╪════════════════════════╡\n",
            "│ Philadelphia ┆ 43215565               │\n",
            "│ Brooklyn     ┆ 22822628               │\n",
            "└──────────────┴────────────────────────┘\n"
          ]
        }
      ],
      "source": [
        "# Q1.2: Revenue by store location\n",
        "# Your code here\n",
        "\n",
        "revenue_by_store = (\n",
        "    orders\n",
        "    .join(stores, left_on='store_id', right_on='id')\n",
        "    .group_by('name')\n",
        "    .agg(pl.col('order_total').sum().alias('total_revenue_by_store'))\n",
        "    .sort('total_revenue_by_store', descending=True)\n",
        ")\n",
        "\n",
        "print(revenue_by_store)"
      ]
    },
    {
      "cell_type": "code",
      "execution_count": 44,
      "metadata": {
        "id": "3PPEB-Is9lCx",
        "colab": {
          "base_uri": "https://localhost:8080/"
        },
        "outputId": "c2c2a01a-f0c4-4182-f43f-dbc73712ff07"
      },
      "outputs": [
        {
          "output_type": "stream",
          "name": "stdout",
          "text": [
            "shape: (12, 2)\n",
            "┌─────────┬─────────────────┐\n",
            "│ month   ┆ monthly_revenue │\n",
            "│ ---     ┆ ---             │\n",
            "│ str     ┆ i64             │\n",
            "╞═════════╪═════════════════╡\n",
            "│ 2016-09 ┆ 1644922         │\n",
            "│ 2016-10 ┆ 1956651         │\n",
            "│ 2016-11 ┆ 2552662         │\n",
            "│ 2016-12 ┆ 3307337         │\n",
            "│ 2017-01 ┆ 3821291         │\n",
            "│ …       ┆ …               │\n",
            "│ 2017-04 ┆ 7392014         │\n",
            "│ 2017-05 ┆ 8469909         │\n",
            "│ 2017-06 ┆ 8617148         │\n",
            "│ 2017-07 ┆ 8585320         │\n",
            "│ 2017-08 ┆ 9332296         │\n",
            "└─────────┴─────────────────┘\n"
          ]
        }
      ],
      "source": [
        "# Q1.3: Monthly revenue trends\n",
        "# Your code here\n",
        "\n",
        "order_dates = (\n",
        "    orders\n",
        "    .with_columns(pl.col(\"ordered_at\").str.strptime(pl.Datetime).alias(\"order_date\"))\n",
        ")\n",
        "monthly_revenue_trends = (\n",
        "    orders\n",
        "    .with_columns(pl.col(\"ordered_at\").str.strptime(pl.Datetime).alias(\"order_date\"))\n",
        "    .with_columns(pl.col(\"order_date\").dt.strftime(\"%Y-%m\").alias(\"month\"))\n",
        "    .group_by(\"month\")\n",
        "    .agg(pl.col(\"order_total\").sum().alias(\"monthly_revenue\"))\n",
        "    .sort(\"month\")\n",
        ")\n",
        "print(monthly_revenue_trends)"
      ]
    },
    {
      "cell_type": "code",
      "execution_count": 45,
      "metadata": {
        "id": "9_z34x8T9lCx",
        "colab": {
          "base_uri": "https://localhost:8080/",
          "height": 858
        },
        "outputId": "c102539d-3586-4e03-94f6-c36bf20a72e2"
      },
      "outputs": [
        {
          "output_type": "stream",
          "name": "stdout",
          "text": [
            "revenue by days shape: (7, 3)\n",
            "┌─────────────┬─────────┬──────────────────────┐\n",
            "│ weekday_num ┆ weekday ┆ total_revenue_by_day │\n",
            "│ ---         ┆ ---     ┆ ---                  │\n",
            "│ i8          ┆ str     ┆ i64                  │\n",
            "╞═════════════╪═════════╪══════════════════════╡\n",
            "│ 1           ┆ Mon     ┆ 10611971             │\n",
            "│ 2           ┆ Tue     ┆ 10814455             │\n",
            "│ 3           ┆ Wed     ┆ 10834569             │\n",
            "│ 4           ┆ Thu     ┆ 10829195             │\n",
            "│ 5           ┆ Fri     ┆ 10758715             │\n",
            "│ 6           ┆ Sat     ┆ 5981489              │\n",
            "│ 7           ┆ Sun     ┆ 6207799              │\n",
            "└─────────────┴─────────┴──────────────────────┘\n",
            "highest revenue on : shape: (1, 3)\n",
            "┌─────────────┬─────────┬──────────────────────┐\n",
            "│ weekday_num ┆ weekday ┆ total_revenue_by_day │\n",
            "│ ---         ┆ ---     ┆ ---                  │\n",
            "│ i8          ┆ str     ┆ i64                  │\n",
            "╞═════════════╪═════════╪══════════════════════╡\n",
            "│ 3           ┆ Wed     ┆ 10834569             │\n",
            "└─────────────┴─────────┴──────────────────────┘\n"
          ]
        },
        {
          "output_type": "display_data",
          "data": {
            "text/plain": [
              "<Figure size 640x480 with 1 Axes>"
            ],
            "image/png": "[encoded data removed]"
          },
          "metadata": {}
        }
      ],
      "source": [
        "# Q1.4: Revenue by day of week\n",
        "# Your code here\n",
        "\n",
        "import matplotlib.pyplot as plt\n",
        "\n",
        "revenue_by_day_of_week = (\n",
        "    orders\n",
        "    .with_columns(pl.col(\"ordered_at\").str.strptime(pl.Datetime).alias(\"order_date\"))\n",
        "    .with_columns(\n",
        "        pl.col('order_date').dt.weekday().alias(\"weekday_num\"),\n",
        "        pl.col('order_date').dt.strftime('%a').alias(\"weekday\")\n",
        "    )\n",
        "    .group_by('weekday_num', 'weekday')\n",
        "    .agg(pl.col('order_total').sum().alias('total_revenue_by_day'))\n",
        "    .sort('weekday_num')\n",
        ")\n",
        "\n",
        "print(\"revenue by days\", revenue_by_day_of_week)\n",
        "\n",
        "print(f\"highest revenue on : {revenue_by_day_of_week.sort('total_revenue_by_day', descending=True).head(1)}\")\n",
        "\n",
        "# Your code here\n",
        "\n",
        "weekdays = revenue_by_day_of_week['weekday'].to_list()\n",
        "revenues = revenue_by_day_of_week['total_revenue_by_day'].to_list()\n",
        "\n",
        "highest_revenue_day = revenues.index(max(revenues))\n",
        "\n",
        "colors = [\"green\"] * len(revenues)\n",
        "colors[highest_revenue_day] = \"orange\"\n",
        "\n",
        "plt.bar(weekdays, revenues, color = colors)\n",
        "plt.xlabel('Day of the Week')\n",
        "plt.ylabel('Total Revenue')\n",
        "plt.title('Total Revenue by Day of the Week')\n",
        "\n",
        "plt.show()"
      ]
    },
    {
      "cell_type": "markdown",
      "metadata": {
        "id": "13JJCpyT9lCx"
      },
      "source": [
        "## Question 2: Product Performance\n",
        "\n",
        "The Product Manager needs insights about the menu items:\n",
        "- What is the revenue contribution of each product category (jaffles vs beverages)? (Store result in variable: `revenue_by_category`)\n",
        "- What is the average price of products by type (jaffles vs beverages)?\n",
        "- Include at least one chart to answer one of the above questions."
      ]
    },
    {
      "cell_type": "code",
      "execution_count": 30,
      "metadata": {
        "id": "CDJ_6vkn9lCx",
        "colab": {
          "base_uri": "https://localhost:8080/"
        },
        "outputId": "6aaf23b7-2317-48b1-e2db-efbf59cb086a"
      },
      "outputs": [
        {
          "output_type": "stream",
          "name": "stdout",
          "text": [
            "shape: (2, 2)\n",
            "┌──────────┬──────────┐\n",
            "│ type     ┆ revenue  │\n",
            "│ ---      ┆ ---      │\n",
            "│ str      ┆ i64      │\n",
            "╞══════════╪══════════╡\n",
            "│ beverage ┆ 39836200 │\n",
            "│ jaffle   ┆ 22880900 │\n",
            "└──────────┴──────────┘\n"
          ]
        }
      ],
      "source": [
        "# Q2.1: Revenue by product category\n",
        "# Your code here\n",
        "\n",
        "items_with_products = items.join(products, on=\"sku\")\n",
        "\n",
        "revenue_by_category = (\n",
        "    items_with_products\n",
        "    .with_columns((pl.col(\"price\")).alias(\"item_revenue\"))  # Use price to get revenue\n",
        "    .group_by(\"type\")\n",
        "    .agg(pl.col(\"item_revenue\").sum().alias(\"revenue\"))\n",
        "    .sort(\"revenue\", descending=True)\n",
        ")\n",
        "print(revenue_by_category)"
      ]
    },
    {
      "cell_type": "code",
      "execution_count": 31,
      "metadata": {
        "id": "94Bfyh1P9lCx",
        "colab": {
          "base_uri": "https://localhost:8080/",
          "height": 718
        },
        "outputId": "e68d5124-6464-4e9f-b4d0-5c4eb78afc7e"
      },
      "outputs": [
        {
          "output_type": "stream",
          "name": "stdout",
          "text": [
            "shape: (2, 2)\n",
            "┌──────────┬───────────────────────┐\n",
            "│ type     ┆ average_product_price │\n",
            "│ ---      ┆ ---                   │\n",
            "│ str      ┆ f64                   │\n",
            "╞══════════╪═══════════════════════╡\n",
            "│ jaffle   ┆ 1200.0                │\n",
            "│ beverage ┆ 560.0                 │\n",
            "└──────────┴───────────────────────┘\n"
          ]
        },
        {
          "output_type": "display_data",
          "data": {
            "text/plain": [
              "<Figure size 800x600 with 1 Axes>"
            ],
            "image/png": "[encoded data removed]"
          },
          "metadata": {}
        }
      ],
      "source": [
        "# Q2.2 Average price of products by type\n",
        "# Your code here\n",
        "\n",
        "avg_price_by_type = (\n",
        "    products\n",
        "    .group_by('type')\n",
        "    .agg(pl.col(\"price\").mean().alias(\"average_product_price\"))\n",
        "    .sort(\"average_product_price\", descending=True)\n",
        ")\n",
        "print(avg_price_by_type)\n",
        "\n",
        "# Plot\n",
        "\n",
        "categories = avg_price_by_type['type'].to_list() # Corrected variable name\n",
        "average_prices = avg_price_by_type['average_product_price'].to_list() # Corrected variable name\n",
        "\n",
        "plt.figure(figsize=(8, 6))\n",
        "plt.bar(categories, average_prices, color=['purple', 'orange'])\n",
        "plt.xlabel('Category')\n",
        "plt.ylabel('Average Product Price')\n",
        "plt.title('Average Product Price by Category')\n",
        "plt.show()"
      ]
    },
    {
      "cell_type": "markdown",
      "metadata": {
        "id": "C9VgoRBk9lCx"
      },
      "source": [
        "## Question 3: Store Expansion Strategy\n",
        "\n",
        "The Operations Director is planning expansion strategies:\n",
        "- Which stores have the highest revenue per day since opening? (Store result in variable: `revenue_per_day_by_store`)\n",
        "- What is the relationship between local tax rates and store performance? (Store result in variable: `tax_rate_performance`)\n",
        "- Include at least one chart to answer one of the above questions."
      ]
    },
    {
      "cell_type": "code",
      "source": [
        "# Q3.1: Revenue per day since opening by store\n",
        "# Your code here\n",
        "\n",
        "revenue_per_day_by_store = (\n",
        "    orders.join(stores, left_on='store_id', right_on='id')\n",
        "    .with_columns([\n",
        "        pl.col('ordered_at').str.strptime(pl.Datetime).alias('order_date'),\n",
        "        pl.col('opened_at').str.strptime(pl.Datetime).alias('opened_date')\n",
        "    ])\n",
        "    .group_by(\"store_id\")\n",
        "    .agg([\n",
        "        pl.col(\"order_total\").sum().alias(\"total_revenue\"),\n",
        "        ((pl.col(\"order_date\").max() - pl.col(\"opened_date\").first()).cast(pl.Int64) / (1000 * 60 * 60 * 24)).alias(\"days_open\")\n",
        "    ])\n",
        "    .with_columns((pl.col(\"total_revenue\") / pl.col(\"days_open\")).alias(\"revenue_per_day\"))\n",
        "    .sort(\"revenue_per_day\", descending=True)\n",
        ")\n",
        "\n",
        "print(revenue_per_day_by_store)\n"
      ],
      "metadata": {
        "id": "kF3x-CwRZMLC",
        "colab": {
          "base_uri": "https://localhost:8080/"
        },
        "outputId": "2a1935ce-2c27-41d3-94ea-93a697f1aef4"
      },
      "execution_count": 46,
      "outputs": [
        {
          "output_type": "stream",
          "name": "stdout",
          "text": [
            "shape: (2, 4)\n",
            "┌─────────────────────────────────┬───────────────┬───────────────┬─────────────────┐\n",
            "│ store_id                        ┆ total_revenue ┆ days_open     ┆ revenue_per_day │\n",
            "│ ---                             ┆ ---           ┆ ---           ┆ ---             │\n",
            "│ str                             ┆ i64           ┆ f64           ┆ f64             │\n",
            "╞═════════════════════════════════╪═══════════════╪═══════════════╪═════════════════╡\n",
            "│ a2a24e87-dec8-4f5d-9c9e-0e9849… ┆ 22822628      ┆ 172823.611111 ┆ 132.057349      │\n",
            "│ a9128331-08d7-41a2-b615-21283e… ┆ 43215565      ┆ 364801.388889 ┆ 118.463269      │\n",
            "└─────────────────────────────────┴───────────────┴───────────────┴─────────────────┘\n"
          ]
        }
      ]
    },
    {
      "cell_type": "code",
      "execution_count": 47,
      "metadata": {
        "id": "P3tAQdpZ9lCx",
        "colab": {
          "base_uri": "https://localhost:8080/",
          "height": 626
        },
        "outputId": "c1352ba3-5aac-4961-cb41-c030b82184d1"
      },
      "outputs": [
        {
          "output_type": "stream",
          "name": "stdout",
          "text": [
            "shape: (2, 3)\n",
            "┌──────────────┬──────────┬─────────────────┐\n",
            "│ name         ┆ tax_rate ┆ revenue_per_day │\n",
            "│ ---          ┆ ---      ┆ ---             │\n",
            "│ str          ┆ f64      ┆ f64             │\n",
            "╞══════════════╪══════════╪═════════════════╡\n",
            "│ Brooklyn     ┆ 0.04     ┆ 132.057349      │\n",
            "│ Philadelphia ┆ 0.06     ┆ 118.463269      │\n",
            "└──────────────┴──────────┴─────────────────┘\n"
          ]
        },
        {
          "output_type": "display_data",
          "data": {
            "text/plain": [
              "<Figure size 640x480 with 1 Axes>"
            ],
            "image/png": "[encoded data removed]"
          },
          "metadata": {}
        }
      ],
      "source": [
        "# Q3.2: Tax rates vs store performance\n",
        "# Your code here\n",
        "\n",
        "tax_rate_performance = (\n",
        "    revenue_per_day_by_store\n",
        "    .join(stores.select([\"id\", \"name\", \"tax_rate\"]), left_on=\"store_id\", right_on=\"id\")\n",
        "    .select([\"name\", \"tax_rate\", \"revenue_per_day\"])\n",
        "    .sort(\"tax_rate\")\n",
        ")\n",
        "print(tax_rate_performance)\n",
        "\n",
        "import matplotlib.pyplot as plt\n",
        "\n",
        "# Plot for the above question\n",
        "plt.scatter(\n",
        "    tax_rate_performance[\"tax_rate\"].to_list(),\n",
        "    tax_rate_performance[\"revenue_per_day\"].to_list()\n",
        ")\n",
        "\n",
        "plt.xlabel(\"Tax Rate\")\n",
        "plt.ylabel(\"Revenue Per Day\")\n",
        "plt.title(\"Tax Rate vs Store Performance\")\n",
        "plt.show()"
      ]
    },
    {
      "cell_type": "markdown",
      "metadata": {
        "id": "_jFkBTFm9lCx"
      },
      "source": [
        "## Question 4: Customer Behavior Analysis\n",
        "\n",
        "The Marketing Manager wants to understand customer patterns:\n",
        "- What is the distribution of order values? (Store result in variable: `order_value_distribution`)\n",
        "- How many customers are repeat customers? (Store result in variable: `repeat_customer_analysis`)\n",
        "- Which customers contribute the most to revenue? (Store result in variable: `top_revenue_customers`)"
      ]
    },
    {
      "cell_type": "code",
      "execution_count": 48,
      "metadata": {
        "id": "ncm8WS1K9lCx",
        "colab": {
          "base_uri": "https://localhost:8080/",
          "height": 786
        },
        "outputId": "8d45ac7e-82e1-4a1f-fc18-ff002d7392ac"
      },
      "outputs": [
        {
          "output_type": "stream",
          "name": "stdout",
          "text": [
            "shape: (63_148, 2)\n",
            "┌─────────────────────────────────┬─────────────┐\n",
            "│ id                              ┆ order_total │\n",
            "│ ---                             ┆ ---         │\n",
            "│ str                             ┆ i64         │\n",
            "╞═════════════════════════════════╪═════════════╡\n",
            "│ 363ab5f2-78b4-4227-9333-9701ef… ┆ 1802        │\n",
            "│ d6cdb882-aa8c-4b5a-a478-4321ef… ┆ 636         │\n",
            "│ ca934a93-aca1-4aeb-9786-efb0da… ┆ 742         │\n",
            "│ ecd64383-c4df-41aa-b270-f3b110… ┆ 530         │\n",
            "│ adae1fcd-20b7-4f40-af1c-dc121d… ┆ 636         │\n",
            "│ …                               ┆ …           │\n",
            "│ a47a98c0-082f-4664-a4d6-99714d… ┆ 416         │\n",
            "│ aa5802f7-4a11-46ed-a9fc-b49492… ┆ 728         │\n",
            "│ 861d9840-00fd-4920-969d-9f9f28… ┆ 1352        │\n",
            "│ a780d75c-b6b6-46cf-a68d-9663f8… ┆ 728         │\n",
            "│ e99ea031-ae86-47cc-9a5e-a92c1d… ┆ 416         │\n",
            "└─────────────────────────────────┴─────────────┘\n"
          ]
        },
        {
          "output_type": "display_data",
          "data": {
            "text/plain": [
              "<Figure size 640x480 with 1 Axes>"
            ],
            "image/png": "[encoded data removed]"
          },
          "metadata": {}
        }
      ],
      "source": [
        "# Q4.1: Distribution of order values\n",
        "# Your code here\n",
        "\n",
        "import matplotlib.pyplot as plt\n",
        "\n",
        "order_value_distribution = orders.select(pl.col(\"id\", \"order_total\"))\n",
        "print(order_value_distribution)\n",
        "\n",
        "plt.hist(order_value_distribution[\"order_total\"].to_list(), bins=20)\n",
        "plt.xlabel(\"Order Total\")\n",
        "plt.ylabel(\"Frequency\")\n",
        "plt.title(\"Distribution of Order Values\")\n",
        "plt.show()\n"
      ]
    },
    {
      "cell_type": "code",
      "execution_count": 49,
      "metadata": {
        "id": "QOi1b0gc9lCx",
        "colab": {
          "base_uri": "https://localhost:8080/"
        },
        "outputId": "b2127467-40f6-42d3-81b0-f46bbd6278e6"
      },
      "outputs": [
        {
          "output_type": "stream",
          "name": "stdout",
          "text": [
            "shape: (932, 4)\n",
            "┌─────────────────────────────────┬────────────┬────────────────────┬─────────────────┐\n",
            "│ customer                        ┆ num_orders ┆ is_repeat_customer ┆ name            │\n",
            "│ ---                             ┆ ---        ┆ ---                ┆ ---             │\n",
            "│ str                             ┆ u32        ┆ bool               ┆ str             │\n",
            "╞═════════════════════════════════╪════════════╪════════════════════╪═════════════════╡\n",
            "│ 4b048ec2-1d0f-4d6f-8ce0-f5a52d… ┆ 234        ┆ true               ┆ Blake Matthews  │\n",
            "│ 7263d533-33d2-4883-973b-3e0f82… ┆ 231        ┆ true               ┆ Connie Harrison │\n",
            "│ bbef949a-1c55-468d-b2c2-779f8e… ┆ 228        ┆ true               ┆ Danny Walker    │\n",
            "│ c1f9e6b0-9a5a-4aa6-91cf-7e7344… ┆ 226        ┆ true               ┆ Charles Adams   │\n",
            "│ 56ad53dc-bff1-438a-8ac3-e2633e… ┆ 226        ┆ true               ┆ David Mann      │\n",
            "│ …                               ┆ …          ┆ …                  ┆ …               │\n",
            "│ 07a3aedf-00bd-47dd-bc0b-cbcd44… ┆ 1          ┆ false              ┆ Teresa Summers  │\n",
            "│ c5e593a5-4739-4889-ad9e-a22006… ┆ 1          ┆ false              ┆ Cory Thornton   │\n",
            "│ ff4c895c-17ab-4f38-bc94-f3f584… ┆ 1          ┆ false              ┆ Cynthia Johnson │\n",
            "│ dac6a745-7f69-4989-b73f-ec51b4… ┆ 1          ┆ false              ┆ Tony Mendoza    │\n",
            "│ bf467f40-51cd-4773-b463-cce499… ┆ 1          ┆ false              ┆ Tyler Henderson │\n",
            "└─────────────────────────────────┴────────────┴────────────────────┴─────────────────┘\n",
            "Number of repeat customers: 922\n"
          ]
        }
      ],
      "source": [
        "# Q4.2: Repeat customers analysis\n",
        "# Your code here\n",
        "\n",
        "repeat_customer_analysis = (\n",
        "    orders\n",
        "    .group_by(\"customer\")\n",
        "    .agg(pl.len().alias(\"num_orders\"))\n",
        "    .with_columns((pl.col(\"num_orders\") > 1).alias(\"is_repeat_customer\"))\n",
        "    .join(customers, left_on=\"customer\", right_on=\"id\")\n",
        "    .sort(\"num_orders\", descending=True)\n",
        ")\n",
        "print(repeat_customer_analysis)\n",
        "print(\"Number of repeat customers:\", repeat_customer_analysis.filter(pl.col(\"is_repeat_customer\") == True).shape[0])"
      ]
    },
    {
      "cell_type": "code",
      "execution_count": 50,
      "metadata": {
        "id": "5-5-eERe9lCx",
        "colab": {
          "base_uri": "https://localhost:8080/"
        },
        "outputId": "38aa282b-8bb6-4407-ee52-bdea7272e69b"
      },
      "outputs": [
        {
          "output_type": "stream",
          "name": "stdout",
          "text": [
            "Top 10 Customers by Revenue:\n",
            "shape: (10, 2)\n",
            "┌──────────────────────┬───────────────┐\n",
            "│ name                 ┆ total_revenue │\n",
            "│ ---                  ┆ ---           │\n",
            "│ str                  ┆ i64           │\n",
            "╞══════════════════════╪═══════════════╡\n",
            "│ David Leonard        ┆ 262647        │\n",
            "│ Jesse Moore          ┆ 259037        │\n",
            "│ Diane Davis          ┆ 258515        │\n",
            "│ Holly Johnson        ┆ 252703        │\n",
            "│ Gregory Hayes        ┆ 249821        │\n",
            "│ Julie Robinson       ┆ 247510        │\n",
            "│ Christopher Robinson ┆ 246325        │\n",
            "│ Douglas Burgess      ┆ 244102        │\n",
            "│ Jacob Brown          ┆ 239641        │\n",
            "│ Jenny Harrell        ┆ 237098        │\n",
            "└──────────────────────┴───────────────┘\n"
          ]
        }
      ],
      "source": [
        "# Q4.3: Top revenue contributors\n",
        "# Your code here\n",
        "\n",
        "top_revenue_customers = (\n",
        "    orders\n",
        "    .group_by(\"customer\")\n",
        "    .agg(pl.sum(\"order_total\").alias(\"total_revenue\"))\n",
        "    .join(customers, left_on=\"customer\", right_on=\"id\")\n",
        "    .sort(\"total_revenue\", descending=True)\n",
        "    .limit(10)\n",
        "    .select([\"name\", \"total_revenue\"])\n",
        ")\n",
        "\n",
        "print(\"Top 10 Customers by Revenue:\")\n",
        "print(top_revenue_customers)"
      ]
    },
    {
      "cell_type": "markdown",
      "metadata": {
        "id": "gCYO3bTJ9lCx"
      },
      "source": [
        "## Question 5: Profitability Deep Dive (check)\n",
        "\n",
        "The CEO needs a comprehensive profitability analysis:\n",
        "- Calculate the gross margin for each product (consider supply costs) (Store result in variable: `product_margins`)\n",
        "- Which products have the highest profit margins? (Store result in variable: `highest_margin_products`)\n",
        "- What is the relationship between order size and profitability? (Store result in variable: `order_size_profitability`)\n",
        "- How does profitability vary across different stores? (Store result in variable: `store_profitability`)"
      ]
    },
    {
      "cell_type": "code",
      "execution_count": 51,
      "metadata": {
        "id": "1Qf-BUBY9lCx",
        "colab": {
          "base_uri": "https://localhost:8080/"
        },
        "outputId": "7928fdab-1c38-4dd4-9871-c3ae7e6f3c5c"
      },
      "outputs": [
        {
          "output_type": "stream",
          "name": "stdout",
          "text": [
            "Gross Margin per Product:\n",
            "shape: (10, 5)\n",
            "┌─────────┬─────────────────────────┬───────┬───────────────────┬──────────────┐\n",
            "│ sku     ┆ name                    ┆ price ┆ total_supply_cost ┆ gross_margin │\n",
            "│ ---     ┆ ---                     ┆ ---   ┆ ---               ┆ ---          │\n",
            "│ str     ┆ str                     ┆ i64   ┆ i64               ┆ i64          │\n",
            "╞═════════╪═════════════════════════╪═══════╪═══════════════════╪══════════════╡\n",
            "│ JAF-004 ┆ flame impala            ┆ 1400  ┆ 343               ┆ 1057         │\n",
            "│ JAF-001 ┆ nutellaphone who dis?   ┆ 1100  ┆ 121               ┆ 979          │\n",
            "│ JAF-005 ┆ mel-bun                 ┆ 1200  ┆ 239               ┆ 961          │\n",
            "│ JAF-002 ┆ doctor stew             ┆ 1100  ┆ 251               ┆ 849          │\n",
            "│ JAF-003 ┆ the krautback           ┆ 1200  ┆ 366               ┆ 834          │\n",
            "│ BEV-004 ┆ for richer or pourover  ┆ 700   ┆ 82                ┆ 618          │\n",
            "│ BEV-001 ┆ tangaroo                ┆ 600   ┆ 82                ┆ 518          │\n",
            "│ BEV-003 ┆ vanilla ice             ┆ 600   ┆ 154               ┆ 446          │\n",
            "│ BEV-005 ┆ adele-ade               ┆ 400   ┆ 63                ┆ 337          │\n",
            "│ BEV-002 ┆ chai and mighty         ┆ 500   ┆ 175               ┆ 325          │\n",
            "└─────────┴─────────────────────────┴───────┴───────────────────┴──────────────┘\n"
          ]
        }
      ],
      "source": [
        "# Q5.1: Calculate gross margin per product\n",
        "# Your code here\n",
        "\n",
        "# Join products with supplies to get cost info\n",
        "products_with_supplies_cost = products.join(\n",
        "    supplies,\n",
        "    on='sku',\n",
        "    how='left'\n",
        ")\n",
        "\n",
        "# Aggregate total supply cost per product\n",
        "supply_cost_per_product = products_with_supplies_cost.group_by('sku', 'name').agg(\n",
        "    pl.sum('cost').alias('total_supply_cost')\n",
        ")\n",
        "\n",
        "# Join supply cost back to product info\n",
        "product_margins = products.join(\n",
        "    supply_cost_per_product,\n",
        "    on='sku',\n",
        "    how='left'\n",
        ")\n",
        "\n",
        "# Calculate absolute gross margin\n",
        "product_margins = product_margins.with_columns(\n",
        "    (pl.col('price') - pl.col('total_supply_cost')).alias('gross_margin')\n",
        ")\n",
        "\n",
        "# Final output\n",
        "print(\"Gross Margin per Product:\")\n",
        "print(product_margins.select(\n",
        "    ['sku', 'name', 'price', 'total_supply_cost', 'gross_margin']\n",
        ").sort('gross_margin', descending=True))\n"
      ]
    },
    {
      "cell_type": "code",
      "execution_count": 52,
      "metadata": {
        "id": "KBOVlk7I9lCy",
        "colab": {
          "base_uri": "https://localhost:8080/"
        },
        "outputId": "dc0b3fb6-9d55-4f2c-8d02-7b0bbff0014f"
      },
      "outputs": [
        {
          "output_type": "stream",
          "name": "stdout",
          "text": [
            "shape: (10, 7)\n",
            "┌─────────┬──────────────────┬──────────┬───────┬─────────────────┬─────────────────┬──────────────┐\n",
            "│ sku     ┆ name             ┆ type     ┆ price ┆ description     ┆ total_supply_co ┆ gross_margin │\n",
            "│ ---     ┆ ---              ┆ ---      ┆ ---   ┆ ---             ┆ st              ┆ ---          │\n",
            "│ str     ┆ str              ┆ str      ┆ i64   ┆ str             ┆ ---             ┆ i64          │\n",
            "│         ┆                  ┆          ┆       ┆                 ┆ i64             ┆              │\n",
            "╞═════════╪══════════════════╪══════════╪═══════╪═════════════════╪═════════════════╪══════════════╡\n",
            "│ JAF-004 ┆ flame impala     ┆ jaffle   ┆ 1400  ┆ pulled pork and ┆ 343             ┆ 1057         │\n",
            "│         ┆                  ┆          ┆       ┆ pineapple al p… ┆                 ┆              │\n",
            "│ JAF-001 ┆ nutellaphone who ┆ jaffle   ┆ 1100  ┆ nutella and     ┆ 121             ┆ 979          │\n",
            "│         ┆ dis?             ┆          ┆       ┆ banana jaffle   ┆                 ┆              │\n",
            "│ JAF-005 ┆ mel-bun          ┆ jaffle   ┆ 1200  ┆ melon and       ┆ 239             ┆ 961          │\n",
            "│         ┆                  ┆          ┆       ┆ minced beef     ┆                 ┆              │\n",
            "│         ┆                  ┆          ┆       ┆ bao, in …       ┆                 ┆              │\n",
            "│ JAF-002 ┆ doctor stew      ┆ jaffle   ┆ 1100  ┆ house-made beef ┆ 251             ┆ 849          │\n",
            "│         ┆                  ┆          ┆       ┆ stew jaffle     ┆                 ┆              │\n",
            "│ JAF-003 ┆ the krautback    ┆ jaffle   ┆ 1200  ┆ lamb and pork   ┆ 366             ┆ 834          │\n",
            "│         ┆                  ┆          ┆       ┆ bratwurst with  ┆                 ┆              │\n",
            "│         ┆                  ┆          ┆       ┆ h…              ┆                 ┆              │\n",
            "│ BEV-004 ┆ for richer or    ┆ beverage ┆ 700   ┆ daily selection ┆ 82              ┆ 618          │\n",
            "│         ┆ pourover         ┆          ┆       ┆ of single esta… ┆                 ┆              │\n",
            "│ BEV-001 ┆ tangaroo         ┆ beverage ┆ 600   ┆ mango and       ┆ 82              ┆ 518          │\n",
            "│         ┆                  ┆          ┆       ┆ tangerine       ┆                 ┆              │\n",
            "│         ┆                  ┆          ┆       ┆ smoothie        ┆                 ┆              │\n",
            "│ BEV-003 ┆ vanilla ice      ┆ beverage ┆ 600   ┆ iced coffee     ┆ 154             ┆ 446          │\n",
            "│         ┆                  ┆          ┆       ┆ with house-made ┆                 ┆              │\n",
            "│         ┆                  ┆          ┆       ┆ fr…             ┆                 ┆              │\n",
            "│ BEV-005 ┆ adele-ade        ┆ beverage ┆ 400   ┆ a kiwi and lime ┆ 63              ┆ 337          │\n",
            "│         ┆                  ┆          ┆       ┆ agua fresca, h… ┆                 ┆              │\n",
            "│ BEV-002 ┆ chai and mighty  ┆ beverage ┆ 500   ┆ oatmilk chai    ┆ 175             ┆ 325          │\n",
            "│         ┆                  ┆          ┆       ┆ latte with      ┆                 ┆              │\n",
            "│         ┆                  ┆          ┆       ┆ protei…         ┆                 ┆              │\n",
            "└─────────┴──────────────────┴──────────┴───────┴─────────────────┴─────────────────┴──────────────┘\n"
          ]
        }
      ],
      "source": [
        "# Q5.2: Products with highest profit margins\n",
        "# Your code here\n",
        "\n",
        "product_supply_costs = supplies.group_by(\"sku\").agg(pl.col(\"cost\").sum().alias(\"total_supply_cost\"))\n",
        "\n",
        "products_margins = products.join(product_supply_costs, on=\"sku\").with_columns((pl.col(\"price\") - pl.col(\"total_supply_cost\")).alias(\"gross_margin\"))\n",
        "\n",
        "highest_margin_products = (\n",
        "    products_margins\n",
        "    .sort(\"gross_margin\", descending=True)\n",
        "    .limit(10)\n",
        ")\n",
        "print(highest_margin_products)"
      ]
    },
    {
      "cell_type": "code",
      "execution_count": 53,
      "metadata": {
        "id": "R6i1WAES9lCy",
        "colab": {
          "base_uri": "https://localhost:8080/"
        },
        "outputId": "14d563e8-04a8-4578-e0f2-08aade08f0f9"
      },
      "outputs": [
        {
          "output_type": "stream",
          "name": "stdout",
          "text": [
            "Order Size vs Profitability:\n",
            "shape: (62_642, 5)\n",
            "┌───────────────────────────────┬───────────────┬────────────┬──────────────┬──────────────────────┐\n",
            "│ order_id                      ┆ order_revenue ┆ order_cost ┆ order_profit ┆ order_margin_percent │\n",
            "│ ---                           ┆ ---           ┆ ---        ┆ ---          ┆ ---                  │\n",
            "│ str                           ┆ i64           ┆ i64        ┆ i64          ┆ f64                  │\n",
            "╞═══════════════════════════════╪═══════════════╪════════════╪══════════════╪══════════════════════╡\n",
            "│ 1985c7b4-23ce-409b-b132-3f323 ┆ 400           ┆ 63         ┆ 337          ┆ 0.8425               │\n",
            "│ c…                            ┆               ┆            ┆              ┆                      │\n",
            "│ 153b6e03-d6e4-47b4-8b94-d6887 ┆ 400           ┆ 63         ┆ 337          ┆ 0.8425               │\n",
            "│ d…                            ┆               ┆            ┆              ┆                      │\n",
            "│ 9a446a2f-7a5b-429b-8187-af970 ┆ 400           ┆ 63         ┆ 337          ┆ 0.8425               │\n",
            "│ c…                            ┆               ┆            ┆              ┆                      │\n",
            "│ 8ff04c8e-d826-47f9-b221-24730 ┆ 400           ┆ 63         ┆ 337          ┆ 0.8425               │\n",
            "│ 5…                            ┆               ┆            ┆              ┆                      │\n",
            "│ 9f9403b6-2c38-4775-9235-2bdb6 ┆ 400           ┆ 63         ┆ 337          ┆ 0.8425               │\n",
            "│ c…                            ┆               ┆            ┆              ┆                      │\n",
            "│ …                             ┆ …             ┆ …          ┆ …            ┆ …                    │\n",
            "│ 4075265c-ba57-4149-95e4-95f80 ┆ 9400          ┆ 1920       ┆ 7480         ┆ 0.795745             │\n",
            "│ 2…                            ┆               ┆            ┆              ┆                      │\n",
            "│ 0752dc6f-1cd7-4c79-b69e-7d9d6 ┆ 9400          ┆ 1834       ┆ 7566         ┆ 0.804894             │\n",
            "│ 6…                            ┆               ┆            ┆              ┆                      │\n",
            "│ 156ce168-b046-49be-9543-b71a3 ┆ 9500          ┆ 2232       ┆ 7268         ┆ 0.765053             │\n",
            "│ 5…                            ┆               ┆            ┆              ┆                      │\n",
            "│ 6f0de4f5-6315-422d-9085-488ca ┆ 9600          ┆ 2146       ┆ 7454         ┆ 0.776458             │\n",
            "│ 0…                            ┆               ┆            ┆              ┆                      │\n",
            "│ ab308e57-e876-48ca-91bf-a80ac ┆ 9700          ┆ 2188       ┆ 7512         ┆ 0.774433             │\n",
            "│ f…                            ┆               ┆            ┆              ┆                      │\n",
            "└───────────────────────────────┴───────────────┴────────────┴──────────────┴──────────────────────┘\n"
          ]
        }
      ],
      "source": [
        "# Q5.3: Order size vs profitability\n",
        "# Your code here\n",
        "\n",
        "product_supply_costs = (\n",
        "    supplies\n",
        "    .group_by(\"sku\")\n",
        "    .agg(pl.col(\"cost\").sum().alias(\"total_supply_cost_per_product\"))\n",
        ")\n",
        "\n",
        "order_item_profit = (\n",
        "    items\n",
        "    .join(products, on=\"sku\", how=\"left\")\n",
        "    .join(product_supply_costs, on=\"sku\", how=\"left\")\n",
        ")\n",
        "\n",
        "order_size_profitability = (\n",
        "    order_item_profit\n",
        "    .group_by(\"order_id\")\n",
        "    .agg([\n",
        "        pl.col(\"price\").sum().alias(\"order_revenue\"),\n",
        "        pl.col(\"total_supply_cost_per_product\").sum().alias(\"order_cost\")\n",
        "    ])\n",
        "    .with_columns([\n",
        "        (pl.col(\"order_revenue\") - pl.col(\"order_cost\")).alias(\"order_profit\"),\n",
        "        ((pl.col(\"order_revenue\") - pl.col(\"order_cost\")) / pl.col(\"order_revenue\")).alias(\"order_margin_percent\")\n",
        "    ])\n",
        ")\n",
        "\n",
        "print(\"Order Size vs Profitability:\")\n",
        "print(order_size_profitability.sort(\"order_revenue\"))\n"
      ]
    },
    {
      "cell_type": "code",
      "source": [
        "# Q5.4: Profitability by store\n",
        "# Your code here\n",
        "\n",
        "product_supply_costs = supplies.group_by(\"sku\").agg(pl.col(\"cost\").sum().alias(\"total_supply_cost\"))\n",
        "\n",
        "products_margins = products.join(product_supply_costs, on=\"sku\").with_columns((pl.col(\"price\") - pl.col(\"total_supply_cost\")).alias(\"gross_margin\"))\n",
        "\n",
        "items_with_order = items.join(orders, left_on=\"order_id\", right_on=\"id\", how=\"left\")\n",
        "items_with_margin = items_with_order.join(products_margins.select([\"sku\", \"price\", \"total_supply_cost\", \"gross_margin\"]), on=\"sku\", how=\"left\")\n",
        "\n",
        "order_profitability = (\n",
        "    items_with_margin\n",
        "    .group_by([\"order_id\", \"store_id\"])\n",
        "    .agg([\n",
        "        pl.col(\"price\").sum().alias(\"order_revenue\"),\n",
        "        pl.col(\"total_supply_cost\").sum().alias(\"order_cost\"),\n",
        "        pl.col(\"gross_margin\").sum().alias(\"order_profit\")\n",
        "    ])\n",
        "    .with_columns([\n",
        "        (pl.col(\"order_profit\") / pl.col(\"order_revenue\")).alias(\"order_margin_percent\")\n",
        "    ])\n",
        ")\n",
        "\n",
        "store_profitability = (\n",
        "    order_profitability\n",
        "    .group_by(\"store_id\")\n",
        "    .agg([\n",
        "        pl.sum(\"order_profit\").alias(\"total_store_profit\"),\n",
        "        pl.mean(\"order_margin_percent\").alias(\"avg_order_margin_percent\")\n",
        "    ])\n",
        "    .join(stores.select([\"id\", \"name\"]), left_on=\"store_id\", right_on=\"id\", how=\"left\")\n",
        "    .select([\"store_id\", \"name\", \"total_store_profit\", \"avg_order_margin_percent\"])\n",
        "    .sort(\"total_store_profit\", descending=True)\n",
        ")\n",
        "print(\"Store Profitability Summary:\")\n",
        "print(store_profitability)"
      ],
      "metadata": {
        "id": "yuGi7XDeO9wq",
        "colab": {
          "base_uri": "https://localhost:8080/"
        },
        "outputId": "e226e44c-def3-4a74-9bfd-e287fee3abf2"
      },
      "execution_count": 54,
      "outputs": [
        {
          "output_type": "stream",
          "name": "stdout",
          "text": [
            "Store Profitability Summary:\n",
            "shape: (2, 4)\n",
            "┌─────────────────────────────────┬──────────────┬────────────────────┬──────────────────────────┐\n",
            "│ store_id                        ┆ name         ┆ total_store_profit ┆ avg_order_margin_percent │\n",
            "│ ---                             ┆ ---          ┆ ---                ┆ ---                      │\n",
            "│ str                             ┆ str          ┆ i64                ┆ f64                      │\n",
            "╞═════════════════════════════════╪══════════════╪════════════════════╪══════════════════════════╡\n",
            "│ a9128331-08d7-41a2-b615-21283e… ┆ Philadelphia ┆ 32358060           ┆ 0.794683                 │\n",
            "│ a2a24e87-dec8-4f5d-9c9e-0e9849… ┆ Brooklyn     ┆ 17408441           ┆ 0.794152                 │\n",
            "└─────────────────────────────────┴──────────────┴────────────────────┴──────────────────────────┘\n"
          ]
        }
      ]
    },
    {
      "cell_type": "markdown",
      "metadata": {
        "id": "DZVcA3Lf9lCy"
      },
      "source": [
        "## Question 6: Business Optimization Recommendations\n",
        "\n",
        "Based on your analysis, provide three specific, data-driven recommendations to improve business performance. Support each recommendation with relevant metrics and visualizations."
      ]
    },
    {
      "cell_type": "markdown",
      "source": [],
      "metadata": {
        "id": "iPSJrZquPojD"
      }
    },
    {
      "cell_type": "markdown",
      "metadata": {
        "id": "mNXU4Wrp9lCy"
      },
      "source": [
        "### Recommendation 1: Scale expansion efforts in high-performing stores.\n",
        "\n",
        "*   Brooklyn generates the highest revenue per day since opening (~$132,690/day), outperforming Philadelphia despite having lower total revenue.\n",
        "*   Brooklyn also has the lowest tax rate of 4%, suggesting that lower operating costs may boost per-day profitability.\n",
        "\n"
      ]
    },
    {
      "cell_type": "code",
      "execution_count": 55,
      "metadata": {
        "id": "AkUvda349lCy",
        "colab": {
          "base_uri": "https://localhost:8080/",
          "height": 465
        },
        "outputId": "044c6053-a25e-4c38-b87f-f421d56d2549"
      },
      "outputs": [
        {
          "output_type": "display_data",
          "data": {
            "text/plain": [
              "<Figure size 640x480 with 1 Axes>"
            ],
            "image/png": "[encoded data removed]"
          },
          "metadata": {}
        }
      ],
      "source": [
        "# Supporting analysis for Recommendation 1\n",
        "# Your code here\n",
        "\n",
        "revenue_per_day_by_store = (\n",
        "    orders.join(stores, left_on='store_id', right_on='id')\n",
        "    .with_columns([\n",
        "        pl.col('ordered_at').str.strptime(pl.Datetime).alias('order_date'),\n",
        "        pl.col('opened_at').str.strptime(pl.Datetime).alias('opened_date')\n",
        "    ])\n",
        "    .group_by(\"store_id\")\n",
        "    .agg([\n",
        "        pl.col(\"order_total\").sum().alias(\"total_revenue\"),\n",
        "        ((pl.col(\"order_date\").max() - pl.col(\"opened_date\").first()).cast(pl.Int64) / (1000 * 60 * 60 * 24)).alias(\"days_open\")\n",
        "    ])\n",
        "    .with_columns((pl.col(\"total_revenue\") / pl.col(\"days_open\")).alias(\"revenue_per_day\"))\n",
        "    .sort(\"revenue_per_day\", descending=True)\n",
        ")\n",
        "\n",
        "tax_rate_performance = (\n",
        "    revenue_per_day_by_store.join(stores.select([\"id\", \"name\", \"tax_rate\"]), left_on=\"store_id\", right_on=\"id\")\n",
        "    .select([\"name\", \"tax_rate\", \"revenue_per_day\"])\n",
        ")\n",
        "\n",
        "plt.scatter(\n",
        "    tax_rate_performance[\"tax_rate\"].to_list(),\n",
        "    tax_rate_performance[\"revenue_per_day\"].to_list()\n",
        ")\n",
        "plt.xlabel(\"Tax Rate\")\n",
        "plt.ylabel(\"Revenue Per Day\")\n",
        "plt.title(\"Tax Rate vs Store Performance\")\n",
        "plt.show()"
      ]
    },
    {
      "cell_type": "markdown",
      "metadata": {
        "id": "DWogDVQ19lCy"
      },
      "source": [
        "### Recommendation 2: Focus promotions on high-margin jaffles\n",
        "\n",
        "\n",
        "*   Jaffles like Flame Impala and Nutellaphone who dis? have gross margins of over 70% (e.g. USD 1,057 on a USD 1,400 item).\n",
        "*   Jaffles contribute $22.8 million in revenue, while beverages contribute USD 39.8 million - despite higher average prices for jaffles.\n",
        "\n",
        "Proposed action items:\n",
        "\n",
        "\n",
        "*   Promote high-margin jaffles through combo offers or bundled pricing to increase order value.\n",
        "*   Launch targeted campaigns to increase the share of jaffles purchases within orders that include beverages.\n",
        "\n",
        "\n",
        "\n",
        "\n"
      ]
    },
    {
      "cell_type": "code",
      "execution_count": 56,
      "metadata": {
        "id": "9wCOUnDM9lCy",
        "colab": {
          "base_uri": "https://localhost:8080/",
          "height": 804
        },
        "outputId": "6d473cc5-9611-4d5a-b4ef-1b5428a69953"
      },
      "outputs": [
        {
          "output_type": "stream",
          "name": "stdout",
          "text": [
            "shape: (5, 7)\n",
            "┌─────────┬──────────────────┬────────┬───────┬──────────────────┬──────────────────┬──────────────┐\n",
            "│ sku     ┆ name             ┆ type   ┆ price ┆ description      ┆ total_supply_cos ┆ gross_margin │\n",
            "│ ---     ┆ ---              ┆ ---    ┆ ---   ┆ ---              ┆ t                ┆ ---          │\n",
            "│ str     ┆ str              ┆ str    ┆ i64   ┆ str              ┆ ---              ┆ i64          │\n",
            "│         ┆                  ┆        ┆       ┆                  ┆ i64              ┆              │\n",
            "╞═════════╪══════════════════╪════════╪═══════╪══════════════════╪══════════════════╪══════════════╡\n",
            "│ JAF-004 ┆ flame impala     ┆ jaffle ┆ 1400  ┆ pulled pork and  ┆ 343              ┆ 1057         │\n",
            "│         ┆                  ┆        ┆       ┆ pineapple al p…  ┆                  ┆              │\n",
            "│ JAF-001 ┆ nutellaphone who ┆ jaffle ┆ 1100  ┆ nutella and      ┆ 121              ┆ 979          │\n",
            "│         ┆ dis?             ┆        ┆       ┆ banana jaffle    ┆                  ┆              │\n",
            "│ JAF-005 ┆ mel-bun          ┆ jaffle ┆ 1200  ┆ melon and minced ┆ 239              ┆ 961          │\n",
            "│         ┆                  ┆        ┆       ┆ beef bao, in …   ┆                  ┆              │\n",
            "│ JAF-002 ┆ doctor stew      ┆ jaffle ┆ 1100  ┆ house-made beef  ┆ 251              ┆ 849          │\n",
            "│         ┆                  ┆        ┆       ┆ stew jaffle      ┆                  ┆              │\n",
            "│ JAF-003 ┆ the krautback    ┆ jaffle ┆ 1200  ┆ lamb and pork    ┆ 366              ┆ 834          │\n",
            "│         ┆                  ┆        ┆       ┆ bratwurst with   ┆                  ┆              │\n",
            "│         ┆                  ┆        ┆       ┆ h…               ┆                  ┆              │\n",
            "└─────────┴──────────────────┴────────┴───────┴──────────────────┴──────────────────┴──────────────┘\n"
          ]
        },
        {
          "output_type": "display_data",
          "data": {
            "text/plain": [
              "<Figure size 640x480 with 1 Axes>"
            ],
            "image/png": "[encoded data removed]"
          },
          "metadata": {}
        }
      ],
      "source": [
        "# Supporting analysis for Recommendation 2\n",
        "# Your code here\n",
        "\n",
        "# Gross margin per product\n",
        "product_margins = (\n",
        "    products.join(supplies.group_by(\"sku\").agg(pl.sum(\"cost\").alias(\"total_supply_cost\")), on=\"sku\")\n",
        "    .with_columns((pl.col(\"price\") - pl.col(\"total_supply_cost\")).alias(\"gross_margin\"))\n",
        ")\n",
        "\n",
        "highest_margin_products = product_margins.sort(\"gross_margin\", descending=True).limit(5)\n",
        "print(highest_margin_products)\n",
        "\n",
        "# Avg price by category\n",
        "avg_price_by_type = (\n",
        "    products\n",
        "    .group_by('type')\n",
        "    .agg(pl.col(\"price\").mean().alias(\"average_product_price\"))\n",
        ")\n",
        "\n",
        "# Plot\n",
        "categories = avg_price_by_type['type'].to_list()\n",
        "average_prices = avg_price_by_type['average_product_price'].to_list()\n",
        "\n",
        "plt.bar(categories, average_prices, color=['purple', 'orange'])\n",
        "plt.xlabel('Category')\n",
        "plt.ylabel('Average Product Price')\n",
        "plt.title('Average Product Price by Category')\n",
        "plt.show()"
      ]
    },
    {
      "cell_type": "markdown",
      "metadata": {
        "id": "5ZIew14S9lCy"
      },
      "source": [
        "### Recommendation 3: Create loyalty incentives for repeat customers\n",
        "\n",
        "\n",
        "*   922 out of 932 customers which is ~99% of the customer base, are repeat buyers.\n",
        "*   The Top 10 customers alone contributed $2.5 million+ in revenue.\n",
        "\n",
        "Proposed action items:\n",
        "\n",
        "\n",
        "*   Launch a loyalty/rewards program to further encourage repeat purchases and increase average order value.\n",
        "*   Personalize promotions for high-value customers."
      ]
    },
    {
      "cell_type": "code",
      "execution_count": 57,
      "metadata": {
        "id": "D4YRSmdM9lCy",
        "colab": {
          "base_uri": "https://localhost:8080/",
          "height": 786
        },
        "outputId": "9fd9a2c3-e85d-46fa-b3aa-2f1a959e0a94"
      },
      "outputs": [
        {
          "output_type": "stream",
          "name": "stdout",
          "text": [
            "Repeat customers: 920\n",
            "shape: (10, 3)\n",
            "┌─────────────────────────────────┬───────────────┬──────────────────────┐\n",
            "│ customer                        ┆ total_revenue ┆ name                 │\n",
            "│ ---                             ┆ ---           ┆ ---                  │\n",
            "│ str                             ┆ i64           ┆ str                  │\n",
            "╞═════════════════════════════════╪═══════════════╪══════════════════════╡\n",
            "│ ea3ada4c-8ffa-4e73-a51f-27711f… ┆ 262647        ┆ David Leonard        │\n",
            "│ 4fb3b92c-29cc-410f-a898-9784c4… ┆ 259037        ┆ Jesse Moore          │\n",
            "│ 99facd33-7b11-4955-aa0d-ccd118… ┆ 258515        ┆ Diane Davis          │\n",
            "│ 8bbf796d-0862-41c6-b533-38d6c2… ┆ 252703        ┆ Holly Johnson        │\n",
            "│ bc94ad77-6703-48d9-85d9-7908e7… ┆ 249821        ┆ Gregory Hayes        │\n",
            "│ 3ddc958e-73f5-4fe9-804e-d63c8b… ┆ 247510        ┆ Julie Robinson       │\n",
            "│ 0b92fd92-9200-47fe-9b57-9ada88… ┆ 246325        ┆ Christopher Robinson │\n",
            "│ a54f0762-0ac2-4821-bb45-835fd4… ┆ 244102        ┆ Douglas Burgess      │\n",
            "│ 666caf4d-840e-496a-8dd9-6363aa… ┆ 239641        ┆ Jacob Brown          │\n",
            "│ 416b65bf-5e91-4b77-a67c-4726f3… ┆ 237098        ┆ Jenny Harrell        │\n",
            "└─────────────────────────────────┴───────────────┴──────────────────────┘\n"
          ]
        },
        {
          "output_type": "display_data",
          "data": {
            "text/plain": [
              "<Figure size 640x480 with 1 Axes>"
            ],
            "image/png": "[encoded data removed]"
          },
          "metadata": {}
        }
      ],
      "source": [
        "# Supporting analysis for Recommendation 3\n",
        "# Your code here\n",
        "\n",
        "# Repeat customers\n",
        "repeat_customer_analysis = (\n",
        "    orders.group_by(\"customer\")\n",
        "    .agg(pl.len().alias(\"num_orders\"))\n",
        "    .with_columns((pl.col(\"num_orders\") > 1).alias(\"is_repeat_customer\"))\n",
        ")\n",
        "num_repeat_customers = repeat_customer_analysis.filter(pl.col(\"is_repeat_customer\")).shape[0]\n",
        "print(f\"Repeat customers: {num_repeat_customers}\")\n",
        "\n",
        "# Top 10 customers by revenue\n",
        "top_revenue_customers = (\n",
        "    orders.group_by(\"customer\")\n",
        "    .agg(pl.sum(\"order_total\").alias(\"total_revenue\"))\n",
        "    .join(customers, left_on=\"customer\", right_on=\"id\")\n",
        "    .sort(\"total_revenue\", descending=True)\n",
        "    .limit(10)\n",
        ")\n",
        "print(top_revenue_customers)\n",
        "\n",
        "# Order value distribution\n",
        "order_value_distribution = orders.select(pl.col(\"order_total\"))\n",
        "plt.hist(order_value_distribution[\"order_total\"].to_list(), bins=20)\n",
        "plt.xlabel(\"Order Total\")\n",
        "plt.ylabel(\"Frequency\")\n",
        "plt.title(\"Distribution of Order Values\")\n",
        "plt.show()"
      ]
    },
    {
      "cell_type": "markdown",
      "metadata": {
        "id": "8c-BFaey9lCy"
      },
      "source": [
        "## Executive Summary\n",
        "This analysis offers a data-backed view of Jaffle Shop’s performance across store locations, product categories, and customer behavior. Drawing on over 63,000 orders and 90,000 item-level transactions, the findings highlight key revenue trends, profitability drivers, and loyalty patterns. The goal is to surface actionable insights that can inform decisions around expansion, product strategy, and customer growth.\n",
        "\n",
        "### Key Findings:\n",
        "1. Brooklyn leads in daily revenue performance across all locations (~ USD 132,690/day), despite being a newer store. Its lower tax rate (4 percent) may be contributing to higher efficiency.\n",
        "2. Jaffles yield significantly higher profit margins than beverages, even though beverages lead in total revenue. Products like Flame Impala generate margins over 70 percent.\n",
        "3. Customer loyalty is especially strong, with 99 percent of customers being repeat buyers. The top 10 customers alone account for over $2.5 million in revenue.\n",
        "\n",
        "### Strategic Recommendations:\n",
        "1. Use Brooklyn as a benchmark for future store expansion, focusing on low-tax, high-demand areas. Study potential contributing factors that may have contributed in Brooklyn's success like customer demographics, location analysis, marketing tactics, etc.\n",
        "2. Bundle low-margin items with high-margin anchors to blend the margins. Instead of promoting low-margin beverages as standalone items, bundle them with top-performing jaffles to lift average margin per order. For example, a combination of Nutellaphone who dis? and Vanilla Ice could be offered at a slight discount to increase attachment rate and blended profitability.\n",
        "3. Launch a Test-and-Learn Store Format in underserved markets. Leverage learnings from Brooklyn and Philadelphia to pilot a smaller-format or pop-up Jaffle Shop in a new region with a favorable tax and customer profile. Track performance over 90 days and use insights to scale or adapt the format. This mitigates risk while exploring growth."
      ]
    }
  ],
  "metadata": {
    "kernelspec": {
      "display_name": "opan5510-finalproject",
      "language": "python",
      "name": "python3"
    },
    "language_info": {
      "codemirror_mode": {
        "name": "ipython",
        "version": 3
      },
      "file_extension": ".py",
      "mimetype": "text/x-python",
      "name": "python",
      "nbconvert_exporter": "python",
      "pygments_lexer": "ipython3",
      "version": "3.12.10"
    },
    "colab": {
      "provenance": []
    }
  },
  "nbformat": 4,
  "nbformat_minor": 0
}